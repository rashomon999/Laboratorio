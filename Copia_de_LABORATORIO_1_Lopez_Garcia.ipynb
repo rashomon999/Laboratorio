{
  "cells": [
    {
      "cell_type": "markdown",
      "metadata": {
        "id": "tMhmMxdAlJMa"
      },
      "source": [
        "##Cajero Automatico"
      ]
    },
    {
      "cell_type": "code",
      "execution_count": null,
      "metadata": {
        "id": "7w8GmNx1kljP",
        "colab": {
          "base_uri": "https://localhost:8080/"
        },
        "outputId": "82ff7486-6b7e-4b3b-8e1d-6e10a2b99b36"
      },
      "outputs": [
        {
          "name": "stdout",
          "output_type": "stream",
          "text": [
            "Ingrese su usuario: \n",
            "user\n",
            "Ingrese su contraseña: \n",
            "password\n",
            "Bienvenido\n",
            "Su saldo es inicial es :  417\n",
            "Bienvenido\n",
            "Bienvenido al cajero automático. ¿Qué desea hacer?\n",
            "1. Retirar dinero\n",
            "2. Depositar dinero\n",
            "3. Transferir saldo\n",
            "4. Ver saldo\n",
            "5. Salir\n",
            "1\n",
            "Ingrese el monto a retirar: \n",
            "400\n",
            "Usted ha retirado :  400 \n",
            "Su nuevo saldo es :  17\n",
            "Bienvenido\n",
            "Bienvenido al cajero automático. ¿Qué desea hacer?\n",
            "1. Retirar dinero\n",
            "2. Depositar dinero\n",
            "3. Transferir saldo\n",
            "4. Ver saldo\n",
            "5. Salir\n",
            "4\n",
            "Su saldo es:  17\n",
            "Bienvenido\n",
            "Bienvenido al cajero automático. ¿Qué desea hacer?\n",
            "1. Retirar dinero\n",
            "2. Depositar dinero\n",
            "3. Transferir saldo\n",
            "4. Ver saldo\n",
            "5. Salir\n",
            "5\n"
          ]
        }
      ],
      "source": [
        "import numpy as np #para usar random\n",
        "from numpy import linspace\n",
        "import matplotlib.pyplot as plt\n",
        "import math as m\n",
        "##Usuario : user\n",
        "##contraseña = password\n",
        "saldos = np.random.randint(1000)\n",
        "\n",
        "def menu():\n",
        "  print(\"Bienvenido al cajero automático. ¿Qué desea hacer?\")\n",
        "  print(\"1. Retirar dinero\")\n",
        "  print(\"2. Depositar dinero\")\n",
        "  print(\"3. Transferir saldo\")\n",
        "  print(\"4. Ver saldo\")\n",
        "  print(\"5. Salir\")\n",
        "  option = int(input())\n",
        "  return option\n",
        "\n",
        "def login():\n",
        "    print(\"Ingrese su usuario: \")\n",
        "    usuario = input()\n",
        "    print(\"Ingrese su contraseña: \")\n",
        "    contraseña = input()\n",
        "    if usuario == \"user\" and contraseña == \"password\":\n",
        "        print(\"Bienvenido\")\n",
        "        return True\n",
        "    else:\n",
        "        print(\"Usuario o contraseña incorrectos\")\n",
        "        return False\n",
        "\n",
        "# Repetir el login hasta que sea exitoso\n",
        "def repetir():\n",
        "  login_result = login()\n",
        "  while(login_result == False):  # Mientras el login sea incorrecto (False), repetir\n",
        "    login_result = login()\n",
        "  return login_result\n",
        "\n",
        "def ciclo(saldos):\n",
        "  condicion = False\n",
        "  print(\"Su saldo es inicial es : \",saldos)\n",
        "  while condicion == False:\n",
        "    opcion_r = menu()\n",
        "    if(opcion_r == 1):\n",
        "      print(\"Ingrese el monto a retirar: \")\n",
        "      monto = int(input())\n",
        "      saldos -= monto\n",
        "      print(\"Usted ha retirado : \",monto, \"\\nSu nuevo saldo es : \",saldos)\n",
        "    elif(opcion_r == 2):\n",
        "      print(\"Ingrese el monto a depositar: \")\n",
        "      monto = int(input)\n",
        "      saldos += monto\n",
        "      print(\"Usted ha depositado : \",monto, \"\\nSu nuevo saldo es : \",saldos)\n",
        "    elif(opcion_r == 3):\n",
        "      print(\"Ingrese el monto a transferir: \")\n",
        "      monto = int(input)\n",
        "      saldos -= monto\n",
        "      print(\"Usted ha transferido : \",monto, \"\\nSu nuevo saldo es : \",saldos)\n",
        "    elif(opcion_r == 4):\n",
        "      print(\"Su saldo es: \", saldos)\n",
        "    elif(opcion_r == 5):\n",
        "      condicion = True\n",
        "\n",
        "  return saldos\n",
        "\n",
        "if repetir():\n",
        "  ciclo(saldos)\n",
        "\n",
        "\n",
        "\n",
        "\n",
        "\n",
        "\n",
        "\n"
      ]
    }
  ],
  "metadata": {
    "colab": {
      "provenance": []
    },
    "kernelspec": {
      "display_name": "Python 3",
      "name": "python3"
    },
    "language_info": {
      "name": "python"
    }
  },
  "nbformat": 4,
  "nbformat_minor": 0
}